{
 "cells": [
  {
   "cell_type": "code",
   "execution_count": 1,
   "id": "fb432a76",
   "metadata": {},
   "outputs": [],
   "source": [
    "import pandas as pd\n",
    "import numpy as np\n",
    "import wrangle as w\n",
    "\n",
    "# modeling methods\n",
    "from sklearn.metrics import mean_squared_error, explained_variance_score\n",
    "from sklearn.linear_model import LinearRegression, LassoLars, TweedieRegressor\n",
    "from sklearn.preprocessing import PolynomialFeatures\n",
    "from sklearn.feature_selection import SelectKBest, f_regression, RFE"
   ]
  },
  {
   "cell_type": "code",
   "execution_count": 2,
   "id": "2d87896f",
   "metadata": {},
   "outputs": [
    {
     "name": "stdout",
     "output_type": "stream",
     "text": [
      "opening data from local file\n"
     ]
    }
   ],
   "source": [
    "train, validate, test = w.wrangle_zillow()"
   ]
  },
  {
   "cell_type": "code",
   "execution_count": 3,
   "id": "0a3edcc0",
   "metadata": {},
   "outputs": [],
   "source": [
    "train_scaled, validate_scaled, test_scaled = w.scale_data(train, validate, test)"
   ]
  },
  {
   "cell_type": "code",
   "execution_count": 4,
   "id": "d9f7e1f7",
   "metadata": {},
   "outputs": [],
   "source": [
    "drops = ['tax_value','lot_size_binned']"
   ]
  },
  {
   "cell_type": "code",
   "execution_count": 5,
   "id": "eb9e4f5d",
   "metadata": {},
   "outputs": [],
   "source": [
    "X_train_scaled = train_scaled.drop(columns=drops)\n",
    "y_train = train_scaled.tax_value\n",
    "X_validate_scaled = validate_scaled.drop(columns=drops)\n",
    "y_validate = validate_scaled.tax_value\n",
    "X_test_scaled = test_scaled.drop(columns=drops)\n",
    "y_test = test_scaled.tax_value"
   ]
  },
  {
   "cell_type": "markdown",
   "id": "2dd37c9a",
   "metadata": {},
   "source": [
    "# Feature selection"
   ]
  },
  {
   "cell_type": "code",
   "execution_count": 6,
   "id": "af1a964e",
   "metadata": {},
   "outputs": [],
   "source": [
    "# parameters: f_regression stats test, give me 4 features\n",
    "f_selector = SelectKBest(f_regression, k=4)\n",
    "\n",
    "# find the top 3 X's correlated with y\n",
    "f_selector.fit(X_train_scaled, y_train)\n",
    "\n",
    "# boolean mask of whether the column was selected or not. \n",
    "feature_mask = f_selector.get_support()\n",
    "\n",
    "# get list of top K features. \n",
    "f_feature_kbest = X_train_scaled.iloc[:,feature_mask].columns.tolist()"
   ]
  },
  {
   "cell_type": "code",
   "execution_count": 7,
   "id": "1b60706a",
   "metadata": {},
   "outputs": [
    {
     "data": {
      "text/plain": [
       "['bathrooms', 'area', 'garage_sqft', 'year_built']"
      ]
     },
     "execution_count": 7,
     "metadata": {},
     "output_type": "execute_result"
    }
   ],
   "source": [
    "f_feature_kbest"
   ]
  },
  {
   "cell_type": "code",
   "execution_count": 8,
   "id": "f452d79d",
   "metadata": {},
   "outputs": [],
   "source": [
    "f_feature_kbest = ['region', 'area', 'garage_sqft', 'year_built']"
   ]
  },
  {
   "cell_type": "code",
   "execution_count": 9,
   "id": "6b254e2c",
   "metadata": {},
   "outputs": [],
   "source": [
    "lm = LinearRegression()\n",
    "# parameters: f_regression stats test, give me 4 features\n",
    "f_selector = RFE(lm, n_features_to_select=4)\n",
    "\n",
    "# find the top 3 X's correlated with y\n",
    "f_selector.fit(X_train_scaled, y_train)\n",
    "\n",
    "# boolean mask of whether the column was selected or not. \n",
    "feature_mask = f_selector.get_support()\n",
    "\n",
    "# get list of top K features. \n",
    "f_feature_rfe = X_train_scaled.iloc[:,feature_mask].columns.tolist()"
   ]
  },
  {
   "cell_type": "code",
   "execution_count": 10,
   "id": "c16a76b2",
   "metadata": {},
   "outputs": [
    {
     "data": {
      "text/plain": [
       "['bedrooms', 'area', 'cars_garage', 'garage_sqft']"
      ]
     },
     "execution_count": 10,
     "metadata": {},
     "output_type": "execute_result"
    }
   ],
   "source": [
    "f_feature_rfe"
   ]
  },
  {
   "cell_type": "code",
   "execution_count": 11,
   "id": "7707ea0e",
   "metadata": {},
   "outputs": [],
   "source": [
    "f_feature_rfe = ['pools', 'year_built', 'area', 'garage_sqft', 'region']"
   ]
  },
  {
   "cell_type": "markdown",
   "id": "e0710a3f",
   "metadata": {},
   "source": [
    "# Establish Baseline"
   ]
  },
  {
   "cell_type": "code",
   "execution_count": 12,
   "id": "26899793",
   "metadata": {},
   "outputs": [],
   "source": [
    "y_train = pd.DataFrame(y_train)\n",
    "y_validate = pd.DataFrame(y_validate)\n",
    "y_test = pd.DataFrame(y_test)"
   ]
  },
  {
   "cell_type": "code",
   "execution_count": 13,
   "id": "8059f41a",
   "metadata": {},
   "outputs": [],
   "source": [
    "y_train['tax_value_pred_mean'] = y_train.tax_value.mean()\n",
    "y_validate['tax_value_pred_mean'] = y_train.tax_value.mean()\n",
    "\n",
    "y_train['tax_value_pred_med'] = y_train.tax_value.median()\n",
    "y_validate['tax_value_pred_med'] = y_train.tax_value.median()"
   ]
  },
  {
   "cell_type": "code",
   "execution_count": 14,
   "id": "43d2edac",
   "metadata": {},
   "outputs": [],
   "source": [
    "rmse_train_mu = mean_squared_error(y_train.tax_value,\n",
    "                                   y_train.tax_value_pred_mean) ** .5\n",
    "rmse_validate_mu = mean_squared_error(y_validate.tax_value, \n",
    "                                      y_validate.tax_value_pred_mean) ** (0.5)\n",
    "rmse_train_med = mean_squared_error(y_train.tax_value, \n",
    "                                    y_train.tax_value_pred_med) ** .5\n",
    "rmse_validate_med = mean_squared_error(y_validate.tax_value, \n",
    "                                       y_validate.tax_value_pred_med) ** (0.5)"
   ]
  },
  {
   "cell_type": "code",
   "execution_count": 15,
   "id": "3cac5e2a",
   "metadata": {},
   "outputs": [],
   "source": [
    "metric_df = pd.DataFrame(data=[\n",
    "    {\n",
    "        'model' : 'mean_baseline',\n",
    "        'RMSE_train' : rmse_train_mu,\n",
    "        'RMSE_validate' : rmse_validate_mu,\n",
    "        'difference' : rmse_validate_mu - rmse_train_mu,\n",
    "        'R2' : explained_variance_score(y_validate.tax_value,\n",
    "                                       y_validate.tax_value_pred_mean)\n",
    "    }\n",
    "])"
   ]
  },
  {
   "cell_type": "code",
   "execution_count": 16,
   "id": "64cdbe82",
   "metadata": {},
   "outputs": [
    {
     "data": {
      "text/html": [
       "<div>\n",
       "<style scoped>\n",
       "    .dataframe tbody tr th:only-of-type {\n",
       "        vertical-align: middle;\n",
       "    }\n",
       "\n",
       "    .dataframe tbody tr th {\n",
       "        vertical-align: top;\n",
       "    }\n",
       "\n",
       "    .dataframe thead th {\n",
       "        text-align: right;\n",
       "    }\n",
       "</style>\n",
       "<table border=\"1\" class=\"dataframe\">\n",
       "  <thead>\n",
       "    <tr style=\"text-align: right;\">\n",
       "      <th></th>\n",
       "      <th>model</th>\n",
       "      <th>RMSE_train</th>\n",
       "      <th>RMSE_validate</th>\n",
       "      <th>difference</th>\n",
       "      <th>R2</th>\n",
       "    </tr>\n",
       "  </thead>\n",
       "  <tbody>\n",
       "    <tr>\n",
       "      <th>0</th>\n",
       "      <td>mean_baseline</td>\n",
       "      <td>243722.129324</td>\n",
       "      <td>246130.971338</td>\n",
       "      <td>2408.842014</td>\n",
       "      <td>0.0</td>\n",
       "    </tr>\n",
       "  </tbody>\n",
       "</table>\n",
       "</div>"
      ],
      "text/plain": [
       "           model     RMSE_train  RMSE_validate   difference   R2\n",
       "0  mean_baseline  243722.129324  246130.971338  2408.842014  0.0"
      ]
     },
     "execution_count": 16,
     "metadata": {},
     "output_type": "execute_result"
    }
   ],
   "source": [
    "metric_df"
   ]
  },
  {
   "cell_type": "code",
   "execution_count": 17,
   "id": "0e24eeaf",
   "metadata": {},
   "outputs": [],
   "source": [
    "# make la thing\n",
    "lm = LinearRegression()\n",
    "# fit za thing\n",
    "lm.fit(X_train_scaled[f_feature_kbest], y_train.tax_value)\n",
    "# usage of a thing\n",
    "y_train['tax_value_pred_lm'] = lm.predict(X_train_scaled[f_feature_kbest])\n",
    "# Evaluate: RMSE\n",
    "rmse_train = mean_squared_error(y_train.tax_value, y_train.tax_value_pred_lm) ** .5\n",
    "\n",
    "# repeat usage on validate\n",
    "y_validate['tax_value_pred_lm'] = lm.predict(\n",
    "    X_validate_scaled[f_feature_kbest])\n",
    "# evaluate: RMSE\n",
    "rmse_validate = mean_squared_error(y_validate.tax_value, \n",
    "                                   y_validate.tax_value_pred_lm) ** .5"
   ]
  },
  {
   "cell_type": "code",
   "execution_count": 18,
   "id": "d625aee8",
   "metadata": {},
   "outputs": [],
   "source": [
    "#Append this to the metric_df\n",
    "\n",
    "metric_df = metric_df.append(\n",
    "    {\n",
    "        'model' : 'OLS Regressor',\n",
    "        'RMSE_train' : rmse_train,\n",
    "        'RMSE_validate' : rmse_validate,\n",
    "        'difference' : rmse_validate - rmse_train,\n",
    "        'R2' : explained_variance_score(y_validate.tax_value,\n",
    "                                       y_validate.tax_value_pred_lm)\n",
    "    }, ignore_index=True\n",
    ")"
   ]
  },
  {
   "cell_type": "code",
   "execution_count": 19,
   "id": "9fe87592",
   "metadata": {},
   "outputs": [
    {
     "data": {
      "text/html": [
       "<div>\n",
       "<style scoped>\n",
       "    .dataframe tbody tr th:only-of-type {\n",
       "        vertical-align: middle;\n",
       "    }\n",
       "\n",
       "    .dataframe tbody tr th {\n",
       "        vertical-align: top;\n",
       "    }\n",
       "\n",
       "    .dataframe thead th {\n",
       "        text-align: right;\n",
       "    }\n",
       "</style>\n",
       "<table border=\"1\" class=\"dataframe\">\n",
       "  <thead>\n",
       "    <tr style=\"text-align: right;\">\n",
       "      <th></th>\n",
       "      <th>model</th>\n",
       "      <th>RMSE_train</th>\n",
       "      <th>RMSE_validate</th>\n",
       "      <th>difference</th>\n",
       "      <th>R2</th>\n",
       "    </tr>\n",
       "  </thead>\n",
       "  <tbody>\n",
       "    <tr>\n",
       "      <th>0</th>\n",
       "      <td>mean_baseline</td>\n",
       "      <td>243722.129324</td>\n",
       "      <td>246130.971338</td>\n",
       "      <td>2408.842014</td>\n",
       "      <td>0.000000</td>\n",
       "    </tr>\n",
       "    <tr>\n",
       "      <th>1</th>\n",
       "      <td>OLS Regressor</td>\n",
       "      <td>215520.877180</td>\n",
       "      <td>219171.616444</td>\n",
       "      <td>3650.739264</td>\n",
       "      <td>0.207054</td>\n",
       "    </tr>\n",
       "  </tbody>\n",
       "</table>\n",
       "</div>"
      ],
      "text/plain": [
       "           model     RMSE_train  RMSE_validate   difference        R2\n",
       "0  mean_baseline  243722.129324  246130.971338  2408.842014  0.000000\n",
       "1  OLS Regressor  215520.877180  219171.616444  3650.739264  0.207054"
      ]
     },
     "execution_count": 19,
     "metadata": {},
     "output_type": "execute_result"
    }
   ],
   "source": [
    "metric_df"
   ]
  },
  {
   "cell_type": "code",
   "execution_count": 20,
   "id": "1cb1560c",
   "metadata": {},
   "outputs": [],
   "source": [
    "# make the thing\n",
    "lm = LinearRegression()\n",
    "# fit za thing\n",
    "lm.fit(X_train_scaled[f_feature_rfe], y_train.tax_value)\n",
    "# usage of a thing\n",
    "y_train['tax_value_pred_lm'] = lm.predict(X_train_scaled[f_feature_rfe])\n",
    "# Evaluate: RMSE\n",
    "rmse_train = mean_squared_error(y_train.tax_value, y_train.tax_value_pred_lm) ** .5\n",
    "\n",
    "# repeat usage on validate\n",
    "y_validate['tax_value_pred_lm'] = lm.predict(\n",
    "    X_validate_scaled[f_feature_rfe])\n",
    "# evaluate: RMSE\n",
    "rmse_validate = mean_squared_error(y_validate.tax_value, \n",
    "                                   y_validate.tax_value_pred_lm) ** .5"
   ]
  },
  {
   "cell_type": "code",
   "execution_count": 21,
   "id": "1c134808",
   "metadata": {},
   "outputs": [],
   "source": [
    "#Append this to the metric_df\n",
    "\n",
    "metric_df = metric_df.append(\n",
    "    {\n",
    "        'model' : 'OLS-rfe',\n",
    "        'RMSE_train' : rmse_train,\n",
    "        'RMSE_validate' : rmse_validate,\n",
    "        'difference' : rmse_validate - rmse_train,\n",
    "        'R2' : explained_variance_score(y_validate.tax_value,\n",
    "                                       y_validate.tax_value_pred_lm)\n",
    "    }, ignore_index=True\n",
    ")"
   ]
  },
  {
   "cell_type": "code",
   "execution_count": 22,
   "id": "2d0b18a0",
   "metadata": {},
   "outputs": [
    {
     "data": {
      "text/html": [
       "<div>\n",
       "<style scoped>\n",
       "    .dataframe tbody tr th:only-of-type {\n",
       "        vertical-align: middle;\n",
       "    }\n",
       "\n",
       "    .dataframe tbody tr th {\n",
       "        vertical-align: top;\n",
       "    }\n",
       "\n",
       "    .dataframe thead th {\n",
       "        text-align: right;\n",
       "    }\n",
       "</style>\n",
       "<table border=\"1\" class=\"dataframe\">\n",
       "  <thead>\n",
       "    <tr style=\"text-align: right;\">\n",
       "      <th></th>\n",
       "      <th>model</th>\n",
       "      <th>RMSE_train</th>\n",
       "      <th>RMSE_validate</th>\n",
       "      <th>difference</th>\n",
       "      <th>R2</th>\n",
       "    </tr>\n",
       "  </thead>\n",
       "  <tbody>\n",
       "    <tr>\n",
       "      <th>0</th>\n",
       "      <td>mean_baseline</td>\n",
       "      <td>243722.129324</td>\n",
       "      <td>246130.971338</td>\n",
       "      <td>2408.842014</td>\n",
       "      <td>0.000000</td>\n",
       "    </tr>\n",
       "    <tr>\n",
       "      <th>1</th>\n",
       "      <td>OLS Regressor</td>\n",
       "      <td>215520.877180</td>\n",
       "      <td>219171.616444</td>\n",
       "      <td>3650.739264</td>\n",
       "      <td>0.207054</td>\n",
       "    </tr>\n",
       "    <tr>\n",
       "      <th>2</th>\n",
       "      <td>OLS-rfe</td>\n",
       "      <td>215268.700711</td>\n",
       "      <td>219013.771067</td>\n",
       "      <td>3745.070355</td>\n",
       "      <td>0.208196</td>\n",
       "    </tr>\n",
       "  </tbody>\n",
       "</table>\n",
       "</div>"
      ],
      "text/plain": [
       "           model     RMSE_train  RMSE_validate   difference        R2\n",
       "0  mean_baseline  243722.129324  246130.971338  2408.842014  0.000000\n",
       "1  OLS Regressor  215520.877180  219171.616444  3650.739264  0.207054\n",
       "2        OLS-rfe  215268.700711  219013.771067  3745.070355  0.208196"
      ]
     },
     "execution_count": 22,
     "metadata": {},
     "output_type": "execute_result"
    }
   ],
   "source": [
    "metric_df"
   ]
  },
  {
   "cell_type": "markdown",
   "id": "86fb2a8e",
   "metadata": {},
   "source": [
    "# Lasso + Lars"
   ]
  },
  {
   "cell_type": "code",
   "execution_count": 23,
   "id": "8ad9f733",
   "metadata": {},
   "outputs": [],
   "source": [
    "# make la thing\n",
    "lars = LassoLars(alpha=0.1)\n",
    "# fit za thing\n",
    "lars.fit(X_train_scaled[f_feature_kbest], y_train.tax_value)\n",
    "# usage of a thing\n",
    "y_train['tax_value_pred_lars'] = lars.predict(X_train_scaled[f_feature_kbest])\n",
    "# Evaluate: RMSE\n",
    "rmse_train = mean_squared_error(y_train.tax_value, y_train.tax_value_pred_lars) ** .5\n",
    "\n",
    "# repeat usage on validate\n",
    "y_validate['tax_value_pred_lars'] = lars.predict(X_validate_scaled[f_feature_kbest])\n",
    "# evaluate: RMSE\n",
    "rmse_validate = mean_squared_error(y_validate.tax_value, \n",
    "                                   y_validate.tax_value_pred_lars) ** .5"
   ]
  },
  {
   "cell_type": "code",
   "execution_count": 24,
   "id": "fa1dfef1",
   "metadata": {},
   "outputs": [],
   "source": [
    "#Append this to the metric_df\n",
    "\n",
    "metric_df = metric_df.append(\n",
    "    {\n",
    "        'model' : 'Lasso + Lars',\n",
    "        'RMSE_train' : rmse_train,\n",
    "        'RMSE_validate' : rmse_validate,\n",
    "        'difference' : rmse_validate - rmse_train,\n",
    "        'R2' : explained_variance_score(y_validate.tax_value,\n",
    "                                       y_validate.tax_value_pred_lars)\n",
    "    }, ignore_index=True\n",
    ")"
   ]
  },
  {
   "cell_type": "code",
   "execution_count": 25,
   "id": "28bd3132",
   "metadata": {},
   "outputs": [
    {
     "data": {
      "text/html": [
       "<div>\n",
       "<style scoped>\n",
       "    .dataframe tbody tr th:only-of-type {\n",
       "        vertical-align: middle;\n",
       "    }\n",
       "\n",
       "    .dataframe tbody tr th {\n",
       "        vertical-align: top;\n",
       "    }\n",
       "\n",
       "    .dataframe thead th {\n",
       "        text-align: right;\n",
       "    }\n",
       "</style>\n",
       "<table border=\"1\" class=\"dataframe\">\n",
       "  <thead>\n",
       "    <tr style=\"text-align: right;\">\n",
       "      <th></th>\n",
       "      <th>model</th>\n",
       "      <th>RMSE_train</th>\n",
       "      <th>RMSE_validate</th>\n",
       "      <th>difference</th>\n",
       "      <th>R2</th>\n",
       "    </tr>\n",
       "  </thead>\n",
       "  <tbody>\n",
       "    <tr>\n",
       "      <th>0</th>\n",
       "      <td>mean_baseline</td>\n",
       "      <td>243722.129324</td>\n",
       "      <td>246130.971338</td>\n",
       "      <td>2408.842014</td>\n",
       "      <td>0.000000</td>\n",
       "    </tr>\n",
       "    <tr>\n",
       "      <th>1</th>\n",
       "      <td>OLS Regressor</td>\n",
       "      <td>215520.877180</td>\n",
       "      <td>219171.616444</td>\n",
       "      <td>3650.739264</td>\n",
       "      <td>0.207054</td>\n",
       "    </tr>\n",
       "    <tr>\n",
       "      <th>2</th>\n",
       "      <td>OLS-rfe</td>\n",
       "      <td>215268.700711</td>\n",
       "      <td>219013.771067</td>\n",
       "      <td>3745.070355</td>\n",
       "      <td>0.208196</td>\n",
       "    </tr>\n",
       "    <tr>\n",
       "      <th>3</th>\n",
       "      <td>Lasso + Lars</td>\n",
       "      <td>215520.881033</td>\n",
       "      <td>219171.181556</td>\n",
       "      <td>3650.300523</td>\n",
       "      <td>0.207057</td>\n",
       "    </tr>\n",
       "  </tbody>\n",
       "</table>\n",
       "</div>"
      ],
      "text/plain": [
       "           model     RMSE_train  RMSE_validate   difference        R2\n",
       "0  mean_baseline  243722.129324  246130.971338  2408.842014  0.000000\n",
       "1  OLS Regressor  215520.877180  219171.616444  3650.739264  0.207054\n",
       "2        OLS-rfe  215268.700711  219013.771067  3745.070355  0.208196\n",
       "3   Lasso + Lars  215520.881033  219171.181556  3650.300523  0.207057"
      ]
     },
     "execution_count": 25,
     "metadata": {},
     "output_type": "execute_result"
    }
   ],
   "source": [
    "metric_df"
   ]
  },
  {
   "cell_type": "code",
   "execution_count": 26,
   "id": "ec566f7f",
   "metadata": {},
   "outputs": [],
   "source": [
    "# make la thing\n",
    "lars = LassoLars(alpha=0.01)\n",
    "# fit za thing\n",
    "lars.fit(X_train_scaled[f_feature_rfe], y_train.tax_value)\n",
    "# usage of a thing\n",
    "y_train['tax_value_pred_lars'] = lars.predict(X_train_scaled[f_feature_rfe])\n",
    "# Evaluate: RMSE\n",
    "rmse_train = mean_squared_error(y_train.tax_value, y_train.tax_value_pred_lars) ** .5\n",
    "\n",
    "# repeat usage on validate\n",
    "y_validate['tax_value_pred_lars'] = lars.predict(X_validate_scaled[f_feature_rfe])\n",
    "# evaluate: RMSE\n",
    "rmse_validate = mean_squared_error(y_validate.tax_value, \n",
    "                                   y_validate.tax_value_pred_lars) ** .5"
   ]
  },
  {
   "cell_type": "code",
   "execution_count": 27,
   "id": "f19e5665",
   "metadata": {},
   "outputs": [],
   "source": [
    "#Append this to the metric_df\n",
    "\n",
    "metric_df = metric_df.append(\n",
    "    {\n",
    "        'model' : 'Lasso + Lars-rfe',\n",
    "        'RMSE_train' : rmse_train,\n",
    "        'RMSE_validate' : rmse_validate,\n",
    "        'difference' : rmse_validate - rmse_train,\n",
    "        'R2' : explained_variance_score(y_validate.tax_value,\n",
    "                                       y_validate.tax_value_pred_lars)\n",
    "    }, ignore_index=True\n",
    ")"
   ]
  },
  {
   "cell_type": "code",
   "execution_count": 28,
   "id": "17f0988a",
   "metadata": {},
   "outputs": [
    {
     "data": {
      "text/html": [
       "<div>\n",
       "<style scoped>\n",
       "    .dataframe tbody tr th:only-of-type {\n",
       "        vertical-align: middle;\n",
       "    }\n",
       "\n",
       "    .dataframe tbody tr th {\n",
       "        vertical-align: top;\n",
       "    }\n",
       "\n",
       "    .dataframe thead th {\n",
       "        text-align: right;\n",
       "    }\n",
       "</style>\n",
       "<table border=\"1\" class=\"dataframe\">\n",
       "  <thead>\n",
       "    <tr style=\"text-align: right;\">\n",
       "      <th></th>\n",
       "      <th>model</th>\n",
       "      <th>RMSE_train</th>\n",
       "      <th>RMSE_validate</th>\n",
       "      <th>difference</th>\n",
       "      <th>R2</th>\n",
       "    </tr>\n",
       "  </thead>\n",
       "  <tbody>\n",
       "    <tr>\n",
       "      <th>0</th>\n",
       "      <td>mean_baseline</td>\n",
       "      <td>243722.129324</td>\n",
       "      <td>246130.971338</td>\n",
       "      <td>2408.842014</td>\n",
       "      <td>0.000000</td>\n",
       "    </tr>\n",
       "    <tr>\n",
       "      <th>1</th>\n",
       "      <td>OLS Regressor</td>\n",
       "      <td>215520.877180</td>\n",
       "      <td>219171.616444</td>\n",
       "      <td>3650.739264</td>\n",
       "      <td>0.207054</td>\n",
       "    </tr>\n",
       "    <tr>\n",
       "      <th>2</th>\n",
       "      <td>OLS-rfe</td>\n",
       "      <td>215268.700711</td>\n",
       "      <td>219013.771067</td>\n",
       "      <td>3745.070355</td>\n",
       "      <td>0.208196</td>\n",
       "    </tr>\n",
       "    <tr>\n",
       "      <th>3</th>\n",
       "      <td>Lasso + Lars</td>\n",
       "      <td>215520.881033</td>\n",
       "      <td>219171.181556</td>\n",
       "      <td>3650.300523</td>\n",
       "      <td>0.207057</td>\n",
       "    </tr>\n",
       "    <tr>\n",
       "      <th>4</th>\n",
       "      <td>Lasso + Lars-rfe</td>\n",
       "      <td>215268.700753</td>\n",
       "      <td>219013.719581</td>\n",
       "      <td>3745.018828</td>\n",
       "      <td>0.208196</td>\n",
       "    </tr>\n",
       "  </tbody>\n",
       "</table>\n",
       "</div>"
      ],
      "text/plain": [
       "              model     RMSE_train  RMSE_validate   difference        R2\n",
       "0     mean_baseline  243722.129324  246130.971338  2408.842014  0.000000\n",
       "1     OLS Regressor  215520.877180  219171.616444  3650.739264  0.207054\n",
       "2           OLS-rfe  215268.700711  219013.771067  3745.070355  0.208196\n",
       "3      Lasso + Lars  215520.881033  219171.181556  3650.300523  0.207057\n",
       "4  Lasso + Lars-rfe  215268.700753  219013.719581  3745.018828  0.208196"
      ]
     },
     "execution_count": 28,
     "metadata": {},
     "output_type": "execute_result"
    }
   ],
   "source": [
    "metric_df"
   ]
  },
  {
   "cell_type": "code",
   "execution_count": 29,
   "id": "d2156bef",
   "metadata": {},
   "outputs": [],
   "source": [
    "# make la thing\n",
    "glm = TweedieRegressor(power=1, alpha=0)\n",
    "# fit za thing\n",
    "glm.fit(X_train_scaled[f_feature_kbest], y_train.tax_value)\n",
    "# usage of a thing\n",
    "y_train['tax_value_pred_glm'] = glm.predict(X_train_scaled[f_feature_kbest])\n",
    "# Evaluate: RMSE\n",
    "rmse_train = mean_squared_error(y_train.tax_value, y_train.tax_value_pred_glm) ** .5\n",
    "\n",
    "# repeat usage on validate\n",
    "y_validate['tax_value_pred_glm'] = glm.predict(X_validate_scaled[f_feature_kbest])\n",
    "# evaluate: RMSE\n",
    "rmse_validate = mean_squared_error(y_validate.tax_value, \n",
    "                                   y_validate.tax_value_pred_glm) ** .5"
   ]
  },
  {
   "cell_type": "code",
   "execution_count": 30,
   "id": "c3c911f8",
   "metadata": {},
   "outputs": [],
   "source": [
    "#Append this to the metric_df\n",
    "\n",
    "metric_df = metric_df.append(\n",
    "    {\n",
    "        'model' : 'Tweedie Regressor',\n",
    "        'RMSE_train' : rmse_train,\n",
    "        'RMSE_validate' : rmse_validate,\n",
    "        'difference' : rmse_validate - rmse_train,\n",
    "        'R2' : explained_variance_score(y_validate.tax_value,\n",
    "                                       y_validate.tax_value_pred_glm)\n",
    "    }, ignore_index=True\n",
    ")"
   ]
  },
  {
   "cell_type": "code",
   "execution_count": 31,
   "id": "dcd62b97",
   "metadata": {},
   "outputs": [
    {
     "data": {
      "text/html": [
       "<div>\n",
       "<style scoped>\n",
       "    .dataframe tbody tr th:only-of-type {\n",
       "        vertical-align: middle;\n",
       "    }\n",
       "\n",
       "    .dataframe tbody tr th {\n",
       "        vertical-align: top;\n",
       "    }\n",
       "\n",
       "    .dataframe thead th {\n",
       "        text-align: right;\n",
       "    }\n",
       "</style>\n",
       "<table border=\"1\" class=\"dataframe\">\n",
       "  <thead>\n",
       "    <tr style=\"text-align: right;\">\n",
       "      <th></th>\n",
       "      <th>model</th>\n",
       "      <th>RMSE_train</th>\n",
       "      <th>RMSE_validate</th>\n",
       "      <th>difference</th>\n",
       "      <th>R2</th>\n",
       "    </tr>\n",
       "  </thead>\n",
       "  <tbody>\n",
       "    <tr>\n",
       "      <th>0</th>\n",
       "      <td>mean_baseline</td>\n",
       "      <td>243722.129324</td>\n",
       "      <td>246130.971338</td>\n",
       "      <td>2408.842014</td>\n",
       "      <td>0.000000e+00</td>\n",
       "    </tr>\n",
       "    <tr>\n",
       "      <th>1</th>\n",
       "      <td>OLS Regressor</td>\n",
       "      <td>215520.877180</td>\n",
       "      <td>219171.616444</td>\n",
       "      <td>3650.739264</td>\n",
       "      <td>2.070538e-01</td>\n",
       "    </tr>\n",
       "    <tr>\n",
       "      <th>2</th>\n",
       "      <td>OLS-rfe</td>\n",
       "      <td>215268.700711</td>\n",
       "      <td>219013.771067</td>\n",
       "      <td>3745.070355</td>\n",
       "      <td>2.081960e-01</td>\n",
       "    </tr>\n",
       "    <tr>\n",
       "      <th>3</th>\n",
       "      <td>Lasso + Lars</td>\n",
       "      <td>215520.881033</td>\n",
       "      <td>219171.181556</td>\n",
       "      <td>3650.300523</td>\n",
       "      <td>2.070569e-01</td>\n",
       "    </tr>\n",
       "    <tr>\n",
       "      <th>4</th>\n",
       "      <td>Lasso + Lars-rfe</td>\n",
       "      <td>215268.700753</td>\n",
       "      <td>219013.719581</td>\n",
       "      <td>3745.018828</td>\n",
       "      <td>2.081963e-01</td>\n",
       "    </tr>\n",
       "    <tr>\n",
       "      <th>5</th>\n",
       "      <td>Tweedie Regressor</td>\n",
       "      <td>243722.129324</td>\n",
       "      <td>246130.971338</td>\n",
       "      <td>2408.842014</td>\n",
       "      <td>1.110223e-16</td>\n",
       "    </tr>\n",
       "  </tbody>\n",
       "</table>\n",
       "</div>"
      ],
      "text/plain": [
       "               model     RMSE_train  RMSE_validate   difference            R2\n",
       "0      mean_baseline  243722.129324  246130.971338  2408.842014  0.000000e+00\n",
       "1      OLS Regressor  215520.877180  219171.616444  3650.739264  2.070538e-01\n",
       "2            OLS-rfe  215268.700711  219013.771067  3745.070355  2.081960e-01\n",
       "3       Lasso + Lars  215520.881033  219171.181556  3650.300523  2.070569e-01\n",
       "4   Lasso + Lars-rfe  215268.700753  219013.719581  3745.018828  2.081963e-01\n",
       "5  Tweedie Regressor  243722.129324  246130.971338  2408.842014  1.110223e-16"
      ]
     },
     "execution_count": 31,
     "metadata": {},
     "output_type": "execute_result"
    }
   ],
   "source": [
    "metric_df"
   ]
  },
  {
   "cell_type": "code",
   "execution_count": 32,
   "id": "7267a682",
   "metadata": {},
   "outputs": [],
   "source": [
    "# make la thing\n",
    "glm = TweedieRegressor(power=1, alpha=0)\n",
    "# fit za thing\n",
    "glm.fit(X_train_scaled[f_feature_rfe], y_train.tax_value)\n",
    "# usage of a thing\n",
    "y_train['tax_value_pred_glm'] = glm.predict(X_train_scaled[f_feature_rfe])\n",
    "# Evaluate: RMSE\n",
    "rmse_train = mean_squared_error(y_train.tax_value, y_train.tax_value_pred_glm) ** .5\n",
    "\n",
    "# repeat usage on validate\n",
    "y_validate['tax_value_pred_glm'] = glm.predict(X_validate_scaled[f_feature_rfe])\n",
    "# evaluate: RMSE\n",
    "rmse_validate = mean_squared_error(y_validate.tax_value, \n",
    "                                   y_validate.tax_value_pred_glm) ** .5"
   ]
  },
  {
   "cell_type": "code",
   "execution_count": 33,
   "id": "8b4fa15c",
   "metadata": {},
   "outputs": [],
   "source": [
    "#Append this to the metric_df\n",
    "\n",
    "metric_df = metric_df.append(\n",
    "    {\n",
    "        'model' : 'Tweedie Regressor-rfe',\n",
    "        'RMSE_train' : rmse_train,\n",
    "        'RMSE_validate' : rmse_validate,\n",
    "        'difference' : rmse_validate - rmse_train,\n",
    "        'R2' : explained_variance_score(y_validate.tax_value,\n",
    "                                       y_validate.tax_value_pred_glm)\n",
    "    }, ignore_index=True\n",
    ")"
   ]
  },
  {
   "cell_type": "code",
   "execution_count": 34,
   "id": "dcd0e491",
   "metadata": {},
   "outputs": [
    {
     "data": {
      "text/html": [
       "<div>\n",
       "<style scoped>\n",
       "    .dataframe tbody tr th:only-of-type {\n",
       "        vertical-align: middle;\n",
       "    }\n",
       "\n",
       "    .dataframe tbody tr th {\n",
       "        vertical-align: top;\n",
       "    }\n",
       "\n",
       "    .dataframe thead th {\n",
       "        text-align: right;\n",
       "    }\n",
       "</style>\n",
       "<table border=\"1\" class=\"dataframe\">\n",
       "  <thead>\n",
       "    <tr style=\"text-align: right;\">\n",
       "      <th></th>\n",
       "      <th>model</th>\n",
       "      <th>RMSE_train</th>\n",
       "      <th>RMSE_validate</th>\n",
       "      <th>difference</th>\n",
       "      <th>R2</th>\n",
       "    </tr>\n",
       "  </thead>\n",
       "  <tbody>\n",
       "    <tr>\n",
       "      <th>0</th>\n",
       "      <td>mean_baseline</td>\n",
       "      <td>243722.129324</td>\n",
       "      <td>246130.971338</td>\n",
       "      <td>2408.842014</td>\n",
       "      <td>0.000000e+00</td>\n",
       "    </tr>\n",
       "    <tr>\n",
       "      <th>1</th>\n",
       "      <td>OLS Regressor</td>\n",
       "      <td>215520.877180</td>\n",
       "      <td>219171.616444</td>\n",
       "      <td>3650.739264</td>\n",
       "      <td>2.070538e-01</td>\n",
       "    </tr>\n",
       "    <tr>\n",
       "      <th>2</th>\n",
       "      <td>OLS-rfe</td>\n",
       "      <td>215268.700711</td>\n",
       "      <td>219013.771067</td>\n",
       "      <td>3745.070355</td>\n",
       "      <td>2.081960e-01</td>\n",
       "    </tr>\n",
       "    <tr>\n",
       "      <th>3</th>\n",
       "      <td>Lasso + Lars</td>\n",
       "      <td>215520.881033</td>\n",
       "      <td>219171.181556</td>\n",
       "      <td>3650.300523</td>\n",
       "      <td>2.070569e-01</td>\n",
       "    </tr>\n",
       "    <tr>\n",
       "      <th>4</th>\n",
       "      <td>Lasso + Lars-rfe</td>\n",
       "      <td>215268.700753</td>\n",
       "      <td>219013.719581</td>\n",
       "      <td>3745.018828</td>\n",
       "      <td>2.081963e-01</td>\n",
       "    </tr>\n",
       "    <tr>\n",
       "      <th>5</th>\n",
       "      <td>Tweedie Regressor</td>\n",
       "      <td>243722.129324</td>\n",
       "      <td>246130.971338</td>\n",
       "      <td>2408.842014</td>\n",
       "      <td>1.110223e-16</td>\n",
       "    </tr>\n",
       "    <tr>\n",
       "      <th>6</th>\n",
       "      <td>Tweedie Regressor-rfe</td>\n",
       "      <td>243722.129324</td>\n",
       "      <td>246130.971338</td>\n",
       "      <td>2408.842014</td>\n",
       "      <td>1.110223e-16</td>\n",
       "    </tr>\n",
       "  </tbody>\n",
       "</table>\n",
       "</div>"
      ],
      "text/plain": [
       "                   model     RMSE_train  RMSE_validate   difference  \\\n",
       "0          mean_baseline  243722.129324  246130.971338  2408.842014   \n",
       "1          OLS Regressor  215520.877180  219171.616444  3650.739264   \n",
       "2                OLS-rfe  215268.700711  219013.771067  3745.070355   \n",
       "3           Lasso + Lars  215520.881033  219171.181556  3650.300523   \n",
       "4       Lasso + Lars-rfe  215268.700753  219013.719581  3745.018828   \n",
       "5      Tweedie Regressor  243722.129324  246130.971338  2408.842014   \n",
       "6  Tweedie Regressor-rfe  243722.129324  246130.971338  2408.842014   \n",
       "\n",
       "             R2  \n",
       "0  0.000000e+00  \n",
       "1  2.070538e-01  \n",
       "2  2.081960e-01  \n",
       "3  2.070569e-01  \n",
       "4  2.081963e-01  \n",
       "5  1.110223e-16  \n",
       "6  1.110223e-16  "
      ]
     },
     "execution_count": 34,
     "metadata": {},
     "output_type": "execute_result"
    }
   ],
   "source": [
    "metric_df"
   ]
  },
  {
   "cell_type": "code",
   "execution_count": 35,
   "id": "af9b19f4",
   "metadata": {},
   "outputs": [],
   "source": [
    "#1. Create the polynomial features to get a new set of features\n",
    "pf = PolynomialFeatures(degree=2) #quadratic function\n",
    "\n",
    "#1. Fit and transform X_train_scaled\n",
    "X_train_degree2 = pf.fit_transform(X_train_scaled[f_feature_kbest])\n",
    "\n",
    "#1. Transform X_validate_scaled & X_test_scaled \n",
    "X_validate_degree2 = pf.fit_transform(X_validate_scaled[f_feature_kbest])\n",
    "X_test_degree2 = pf.fit_transform(X_test_scaled[f_feature_kbest])"
   ]
  },
  {
   "cell_type": "code",
   "execution_count": 36,
   "id": "4c127ec7",
   "metadata": {},
   "outputs": [],
   "source": [
    "# make la thing\n",
    "lm2 = LinearRegression()\n",
    "# fit za thing\n",
    "lm2.fit(X_train_degree2, y_train.tax_value)\n",
    "# usage of a thing\n",
    "y_train['tax_value_pred_lm2'] = lm2.predict(X_train_degree2)\n",
    "# Evaluate: RMSE\n",
    "rmse_train = mean_squared_error(y_train.tax_value, \n",
    "                                y_train.tax_value_pred_lm2) ** .5\n",
    "\n",
    "# repeat usage on validate\n",
    "y_validate['tax_value_pred_lm2'] = lm2.predict(X_validate_degree2)\n",
    "# evaluate: RMSE\n",
    "rmse_validate = mean_squared_error(y_validate.tax_value, \n",
    "                                   y_validate.tax_value_pred_lm2) ** .5"
   ]
  },
  {
   "cell_type": "code",
   "execution_count": 37,
   "id": "24452ca4",
   "metadata": {},
   "outputs": [],
   "source": [
    "#Append this to the metric_df\n",
    "\n",
    "metric_df = metric_df.append(\n",
    "    {\n",
    "        'model' : 'Polynomial',\n",
    "        'RMSE_train' : rmse_train,\n",
    "        'RMSE_validate' : rmse_validate,\n",
    "        'difference' : rmse_validate - rmse_train,\n",
    "        'R2' : explained_variance_score(y_validate.tax_value,\n",
    "                                       y_validate.tax_value_pred_lm2)\n",
    "    }, ignore_index=True\n",
    ")"
   ]
  },
  {
   "cell_type": "code",
   "execution_count": 38,
   "id": "4abc6ae2",
   "metadata": {},
   "outputs": [
    {
     "data": {
      "text/html": [
       "<div>\n",
       "<style scoped>\n",
       "    .dataframe tbody tr th:only-of-type {\n",
       "        vertical-align: middle;\n",
       "    }\n",
       "\n",
       "    .dataframe tbody tr th {\n",
       "        vertical-align: top;\n",
       "    }\n",
       "\n",
       "    .dataframe thead th {\n",
       "        text-align: right;\n",
       "    }\n",
       "</style>\n",
       "<table border=\"1\" class=\"dataframe\">\n",
       "  <thead>\n",
       "    <tr style=\"text-align: right;\">\n",
       "      <th></th>\n",
       "      <th>model</th>\n",
       "      <th>RMSE_train</th>\n",
       "      <th>RMSE_validate</th>\n",
       "      <th>difference</th>\n",
       "      <th>R2</th>\n",
       "    </tr>\n",
       "  </thead>\n",
       "  <tbody>\n",
       "    <tr>\n",
       "      <th>0</th>\n",
       "      <td>mean_baseline</td>\n",
       "      <td>243722.129324</td>\n",
       "      <td>246130.971338</td>\n",
       "      <td>2408.842014</td>\n",
       "      <td>0.000000e+00</td>\n",
       "    </tr>\n",
       "    <tr>\n",
       "      <th>1</th>\n",
       "      <td>OLS Regressor</td>\n",
       "      <td>215520.877180</td>\n",
       "      <td>219171.616444</td>\n",
       "      <td>3650.739264</td>\n",
       "      <td>2.070538e-01</td>\n",
       "    </tr>\n",
       "    <tr>\n",
       "      <th>2</th>\n",
       "      <td>OLS-rfe</td>\n",
       "      <td>215268.700711</td>\n",
       "      <td>219013.771067</td>\n",
       "      <td>3745.070355</td>\n",
       "      <td>2.081960e-01</td>\n",
       "    </tr>\n",
       "    <tr>\n",
       "      <th>3</th>\n",
       "      <td>Lasso + Lars</td>\n",
       "      <td>215520.881033</td>\n",
       "      <td>219171.181556</td>\n",
       "      <td>3650.300523</td>\n",
       "      <td>2.070569e-01</td>\n",
       "    </tr>\n",
       "    <tr>\n",
       "      <th>4</th>\n",
       "      <td>Lasso + Lars-rfe</td>\n",
       "      <td>215268.700753</td>\n",
       "      <td>219013.719581</td>\n",
       "      <td>3745.018828</td>\n",
       "      <td>2.081963e-01</td>\n",
       "    </tr>\n",
       "    <tr>\n",
       "      <th>5</th>\n",
       "      <td>Tweedie Regressor</td>\n",
       "      <td>243722.129324</td>\n",
       "      <td>246130.971338</td>\n",
       "      <td>2408.842014</td>\n",
       "      <td>1.110223e-16</td>\n",
       "    </tr>\n",
       "    <tr>\n",
       "      <th>6</th>\n",
       "      <td>Tweedie Regressor-rfe</td>\n",
       "      <td>243722.129324</td>\n",
       "      <td>246130.971338</td>\n",
       "      <td>2408.842014</td>\n",
       "      <td>1.110223e-16</td>\n",
       "    </tr>\n",
       "    <tr>\n",
       "      <th>7</th>\n",
       "      <td>Polynomial</td>\n",
       "      <td>211053.371691</td>\n",
       "      <td>214005.652335</td>\n",
       "      <td>2952.280645</td>\n",
       "      <td>2.439874e-01</td>\n",
       "    </tr>\n",
       "  </tbody>\n",
       "</table>\n",
       "</div>"
      ],
      "text/plain": [
       "                   model     RMSE_train  RMSE_validate   difference  \\\n",
       "0          mean_baseline  243722.129324  246130.971338  2408.842014   \n",
       "1          OLS Regressor  215520.877180  219171.616444  3650.739264   \n",
       "2                OLS-rfe  215268.700711  219013.771067  3745.070355   \n",
       "3           Lasso + Lars  215520.881033  219171.181556  3650.300523   \n",
       "4       Lasso + Lars-rfe  215268.700753  219013.719581  3745.018828   \n",
       "5      Tweedie Regressor  243722.129324  246130.971338  2408.842014   \n",
       "6  Tweedie Regressor-rfe  243722.129324  246130.971338  2408.842014   \n",
       "7             Polynomial  211053.371691  214005.652335  2952.280645   \n",
       "\n",
       "             R2  \n",
       "0  0.000000e+00  \n",
       "1  2.070538e-01  \n",
       "2  2.081960e-01  \n",
       "3  2.070569e-01  \n",
       "4  2.081963e-01  \n",
       "5  1.110223e-16  \n",
       "6  1.110223e-16  \n",
       "7  2.439874e-01  "
      ]
     },
     "execution_count": 38,
     "metadata": {},
     "output_type": "execute_result"
    }
   ],
   "source": [
    "metric_df"
   ]
  },
  {
   "cell_type": "code",
   "execution_count": 39,
   "id": "5154d79a",
   "metadata": {},
   "outputs": [],
   "source": [
    "#1. Create the polynomial features to get a new set of features\n",
    "pf = PolynomialFeatures(degree=2) #quadratic function\n",
    "\n",
    "#1. Fit and transform X_train_scaled\n",
    "X_train_degree2 = pf.fit_transform(X_train_scaled[f_feature_rfe])\n",
    "\n",
    "#1. Transform X_validate_scaled & X_test_scaled \n",
    "X_validate_degree2 = pf.fit_transform(X_validate_scaled[f_feature_rfe])\n",
    "X_test_degree2 = pf.fit_transform(X_test_scaled[f_feature_rfe])"
   ]
  },
  {
   "cell_type": "code",
   "execution_count": 40,
   "id": "e2e1103e",
   "metadata": {},
   "outputs": [],
   "source": [
    "# make la thing\n",
    "lm2 = LinearRegression()\n",
    "# fit za thing\n",
    "lm2.fit(X_train_degree2, y_train.tax_value)\n",
    "# usage of a thing\n",
    "y_train['tax_value_pred_lm2'] = lm2.predict(X_train_degree2)\n",
    "# Evaluate: RMSE\n",
    "rmse_train = mean_squared_error(y_train.tax_value, \n",
    "                                y_train.tax_value_pred_lm2) ** .5\n",
    "\n",
    "# repeat usage on validate\n",
    "y_validate['tax_value_pred_lm2'] = lm2.predict(X_validate_degree2)\n",
    "# evaluate: RMSE\n",
    "rmse_validate = mean_squared_error(y_validate.tax_value, \n",
    "                                   y_validate.tax_value_pred_lm2) ** .5"
   ]
  },
  {
   "cell_type": "code",
   "execution_count": 41,
   "id": "0c10eae8",
   "metadata": {},
   "outputs": [],
   "source": [
    "#Append this to the metric_df\n",
    "\n",
    "metric_df = metric_df.append(\n",
    "    {\n",
    "        'model' : 'Polynomial-rfe',\n",
    "        'RMSE_train' : rmse_train,\n",
    "        'RMSE_validate' : rmse_validate,\n",
    "        'difference' : rmse_validate - rmse_train,\n",
    "        'R2' : explained_variance_score(y_validate.tax_value,\n",
    "                                       y_validate.tax_value_pred_lm2)\n",
    "    }, ignore_index=True\n",
    ")"
   ]
  },
  {
   "cell_type": "code",
   "execution_count": 42,
   "id": "71eb7f34",
   "metadata": {},
   "outputs": [
    {
     "data": {
      "text/html": [
       "<div>\n",
       "<style scoped>\n",
       "    .dataframe tbody tr th:only-of-type {\n",
       "        vertical-align: middle;\n",
       "    }\n",
       "\n",
       "    .dataframe tbody tr th {\n",
       "        vertical-align: top;\n",
       "    }\n",
       "\n",
       "    .dataframe thead th {\n",
       "        text-align: right;\n",
       "    }\n",
       "</style>\n",
       "<table border=\"1\" class=\"dataframe\">\n",
       "  <thead>\n",
       "    <tr style=\"text-align: right;\">\n",
       "      <th></th>\n",
       "      <th>model</th>\n",
       "      <th>RMSE_train</th>\n",
       "      <th>RMSE_validate</th>\n",
       "      <th>difference</th>\n",
       "      <th>R2</th>\n",
       "    </tr>\n",
       "  </thead>\n",
       "  <tbody>\n",
       "    <tr>\n",
       "      <th>0</th>\n",
       "      <td>mean_baseline</td>\n",
       "      <td>243722.129324</td>\n",
       "      <td>246130.971338</td>\n",
       "      <td>2408.842014</td>\n",
       "      <td>0.000000e+00</td>\n",
       "    </tr>\n",
       "    <tr>\n",
       "      <th>1</th>\n",
       "      <td>OLS Regressor</td>\n",
       "      <td>215520.877180</td>\n",
       "      <td>219171.616444</td>\n",
       "      <td>3650.739264</td>\n",
       "      <td>2.070538e-01</td>\n",
       "    </tr>\n",
       "    <tr>\n",
       "      <th>2</th>\n",
       "      <td>OLS-rfe</td>\n",
       "      <td>215268.700711</td>\n",
       "      <td>219013.771067</td>\n",
       "      <td>3745.070355</td>\n",
       "      <td>2.081960e-01</td>\n",
       "    </tr>\n",
       "    <tr>\n",
       "      <th>3</th>\n",
       "      <td>Lasso + Lars</td>\n",
       "      <td>215520.881033</td>\n",
       "      <td>219171.181556</td>\n",
       "      <td>3650.300523</td>\n",
       "      <td>2.070569e-01</td>\n",
       "    </tr>\n",
       "    <tr>\n",
       "      <th>4</th>\n",
       "      <td>Lasso + Lars-rfe</td>\n",
       "      <td>215268.700753</td>\n",
       "      <td>219013.719581</td>\n",
       "      <td>3745.018828</td>\n",
       "      <td>2.081963e-01</td>\n",
       "    </tr>\n",
       "    <tr>\n",
       "      <th>5</th>\n",
       "      <td>Tweedie Regressor</td>\n",
       "      <td>243722.129324</td>\n",
       "      <td>246130.971338</td>\n",
       "      <td>2408.842014</td>\n",
       "      <td>1.110223e-16</td>\n",
       "    </tr>\n",
       "    <tr>\n",
       "      <th>6</th>\n",
       "      <td>Tweedie Regressor-rfe</td>\n",
       "      <td>243722.129324</td>\n",
       "      <td>246130.971338</td>\n",
       "      <td>2408.842014</td>\n",
       "      <td>1.110223e-16</td>\n",
       "    </tr>\n",
       "    <tr>\n",
       "      <th>7</th>\n",
       "      <td>Polynomial</td>\n",
       "      <td>211053.371691</td>\n",
       "      <td>214005.652335</td>\n",
       "      <td>2952.280645</td>\n",
       "      <td>2.439874e-01</td>\n",
       "    </tr>\n",
       "    <tr>\n",
       "      <th>8</th>\n",
       "      <td>Polynomial-rfe</td>\n",
       "      <td>210452.027938</td>\n",
       "      <td>213462.815257</td>\n",
       "      <td>3010.787319</td>\n",
       "      <td>2.478174e-01</td>\n",
       "    </tr>\n",
       "  </tbody>\n",
       "</table>\n",
       "</div>"
      ],
      "text/plain": [
       "                   model     RMSE_train  RMSE_validate   difference  \\\n",
       "0          mean_baseline  243722.129324  246130.971338  2408.842014   \n",
       "1          OLS Regressor  215520.877180  219171.616444  3650.739264   \n",
       "2                OLS-rfe  215268.700711  219013.771067  3745.070355   \n",
       "3           Lasso + Lars  215520.881033  219171.181556  3650.300523   \n",
       "4       Lasso + Lars-rfe  215268.700753  219013.719581  3745.018828   \n",
       "5      Tweedie Regressor  243722.129324  246130.971338  2408.842014   \n",
       "6  Tweedie Regressor-rfe  243722.129324  246130.971338  2408.842014   \n",
       "7             Polynomial  211053.371691  214005.652335  2952.280645   \n",
       "8         Polynomial-rfe  210452.027938  213462.815257  3010.787319   \n",
       "\n",
       "             R2  \n",
       "0  0.000000e+00  \n",
       "1  2.070538e-01  \n",
       "2  2.081960e-01  \n",
       "3  2.070569e-01  \n",
       "4  2.081963e-01  \n",
       "5  1.110223e-16  \n",
       "6  1.110223e-16  \n",
       "7  2.439874e-01  \n",
       "8  2.478174e-01  "
      ]
     },
     "execution_count": 42,
     "metadata": {},
     "output_type": "execute_result"
    }
   ],
   "source": [
    "metric_df"
   ]
  },
  {
   "cell_type": "code",
   "execution_count": 43,
   "id": "dad2188c",
   "metadata": {},
   "outputs": [
    {
     "name": "stdout",
     "output_type": "stream",
     "text": [
      "3 varialbe, OLS-rfe best\n",
      "OLS-rfe\t214552.202335\t218110.669318\t3558.466983\t0.214702\n",
      "4 vaiable, polynomial best\n",
      "Polynomial\t210641.884099\t214250.079823\t3608.195724\t0.242266\n",
      "5 varaible, polynomila best\n",
      "Polynomial\t209763.653824\t213557.375839\t3793.722014\t0.247151\n"
     ]
    }
   ],
   "source": [
    "print('3 varialbe, OLS-rfe best')\n",
    "print('OLS-rfe\t214552.202335\t218110.669318\t3558.466983\t0.214702')\n",
    "print('4 vaiable, polynomial best')\n",
    "print('Polynomial\t210641.884099\t214250.079823\t3608.195724\t0.242266')\n",
    "print('5 varaible, polynomila best')\n",
    "print('Polynomial\t209763.653824\t213557.375839\t3793.722014\t0.247151')"
   ]
  },
  {
   "cell_type": "code",
   "execution_count": 44,
   "id": "575712d9",
   "metadata": {},
   "outputs": [
    {
     "name": "stdout",
     "output_type": "stream",
     "text": [
      "7\tPolynomial\t211053.371691\t214005.652335\t2952.280645\t2.439874e-01\n"
     ]
    }
   ],
   "source": [
    "print('7\tPolynomial\t211053.371691\t214005.652335\t2952.280645\t2.439874e-01')"
   ]
  },
  {
   "cell_type": "code",
   "execution_count": 45,
   "id": "9ec90813",
   "metadata": {},
   "outputs": [],
   "source": [
    "y_test['tax_value_pred_lm2'] = lm2.predict(X_test_degree2)\n",
    "# Evaluate: RMSE\n",
    "rmse_test = mean_squared_error(y_test.tax_value, y_test.tax_value_pred_lm2) ** .5"
   ]
  },
  {
   "cell_type": "code",
   "execution_count": 46,
   "id": "d04d66d6",
   "metadata": {},
   "outputs": [],
   "source": [
    "test_metric_df = pd.DataFrame(data=[\n",
    "    {\n",
    "        'model' : 'Polynomial test',\n",
    "        'RMSE_test' : rmse_test,\n",
    "        'R2' : explained_variance_score(y_test.tax_value,\n",
    "                                       y_test.tax_value_pred_lm2)\n",
    "    }\n",
    "])"
   ]
  },
  {
   "cell_type": "code",
   "execution_count": 47,
   "id": "5ebde67b",
   "metadata": {},
   "outputs": [
    {
     "data": {
      "text/html": [
       "<div>\n",
       "<style scoped>\n",
       "    .dataframe tbody tr th:only-of-type {\n",
       "        vertical-align: middle;\n",
       "    }\n",
       "\n",
       "    .dataframe tbody tr th {\n",
       "        vertical-align: top;\n",
       "    }\n",
       "\n",
       "    .dataframe thead th {\n",
       "        text-align: right;\n",
       "    }\n",
       "</style>\n",
       "<table border=\"1\" class=\"dataframe\">\n",
       "  <thead>\n",
       "    <tr style=\"text-align: right;\">\n",
       "      <th></th>\n",
       "      <th>model</th>\n",
       "      <th>RMSE_test</th>\n",
       "      <th>R2</th>\n",
       "    </tr>\n",
       "  </thead>\n",
       "  <tbody>\n",
       "    <tr>\n",
       "      <th>0</th>\n",
       "      <td>Polynomial test</td>\n",
       "      <td>213160.518547</td>\n",
       "      <td>0.24401</td>\n",
       "    </tr>\n",
       "  </tbody>\n",
       "</table>\n",
       "</div>"
      ],
      "text/plain": [
       "             model      RMSE_test       R2\n",
       "0  Polynomial test  213160.518547  0.24401"
      ]
     },
     "execution_count": 47,
     "metadata": {},
     "output_type": "execute_result"
    }
   ],
   "source": [
    "test_metric_df"
   ]
  },
  {
   "cell_type": "code",
   "execution_count": 48,
   "id": "e95a965e",
   "metadata": {},
   "outputs": [
    {
     "data": {
      "text/plain": [
       "28155.94260900002"
      ]
     },
     "execution_count": 48,
     "metadata": {},
     "output_type": "execute_result"
    }
   ],
   "source": [
    "(243722.129324 - 215566.186715)"
   ]
  },
  {
   "cell_type": "code",
   "execution_count": 49,
   "id": "6c5b4284",
   "metadata": {},
   "outputs": [
    {
     "data": {
      "text/plain": [
       "30139.064759"
      ]
     },
     "execution_count": 49,
     "metadata": {},
     "output_type": "execute_result"
    }
   ],
   "source": [
    "(243722.129324 - 213583.064565)"
   ]
  },
  {
   "cell_type": "code",
   "execution_count": 51,
   "id": "6301758d",
   "metadata": {},
   "outputs": [
    {
     "data": {
      "text/plain": [
       "30561.610776999994"
      ]
     },
     "execution_count": 51,
     "metadata": {},
     "output_type": "execute_result"
    }
   ],
   "source": [
    "(243722.129324 - 213160.518547)"
   ]
  },
  {
   "cell_type": "code",
   "execution_count": 50,
   "id": "b241eb0a",
   "metadata": {},
   "outputs": [
    {
     "data": {
      "text/plain": [
       "1371839810.635403"
      ]
     },
     "execution_count": 50,
     "metadata": {},
     "output_type": "execute_result"
    }
   ],
   "source": [
    "(243722.129324 - 213583.064565) * (len(train) + len(validate) + len(test))"
   ]
  },
  {
   "cell_type": "markdown",
   "id": "17af6cac",
   "metadata": {},
   "source": [
    "For houses that had a transaction in 2017, our model was able to reduce the error from the baseline prediction by \\\\$30,139 per house, and a total amount of \\\\$1,371,839,810.64 (1.37 billion dollars)."
   ]
  },
  {
   "cell_type": "code",
   "execution_count": null,
   "id": "cc3735cb",
   "metadata": {},
   "outputs": [],
   "source": []
  }
 ],
 "metadata": {
  "kernelspec": {
   "display_name": "Python 3 (ipykernel)",
   "language": "python",
   "name": "python3"
  },
  "language_info": {
   "codemirror_mode": {
    "name": "ipython",
    "version": 3
   },
   "file_extension": ".py",
   "mimetype": "text/x-python",
   "name": "python",
   "nbconvert_exporter": "python",
   "pygments_lexer": "ipython3",
   "version": "3.9.13"
  }
 },
 "nbformat": 4,
 "nbformat_minor": 5
}
